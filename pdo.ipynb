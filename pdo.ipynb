{
 "cells": [
  {
   "cell_type": "code",
   "execution_count": null,
   "metadata": {},
   "outputs": [],
   "source": [
    "import os, sys\n",
    "import django\n",
    "PROJECTPATH = '/home/ola/pdo/usecase'\n",
    "sys.path.insert(0, PROJECTPATH)\n",
    "os.environ.setdefault(\"DJANGO_SETTINGS_MODULE\", \"pdo_project.settings.local\")\n",
    "os.environ[\"DJANGO_ALLOW_ASYNC_UNSAFE\"] = \"true\"\n",
    "os.chdir(PROJECTPATH)\n",
    "django.setup()"
   ]
  },
  {
   "cell_type": "code",
   "execution_count": null,
   "metadata": {},
   "outputs": [],
   "source": [
    "import folium, json\n",
    "from map.models import Sensors, SensorReadings\n",
    "from map.utils import custom_tile_layers, INDUSTRIAL_SITE_LATITUDE, INDUSTRIAL_SITE_LONGITUDE\n",
    "\n",
    "payload = {\n",
    "    \"message\": {\n",
    "        \"temperature\": 0,\n",
    "        \"pressure\": 0.2,\n",
    "        \"steam_injection\": 0.2,\n",
    "        \"sensor_id\": 11\n",
    "    }\n",
    "}\n",
    "payload_json = json.dumps(payload)\n",
    "import websocket\n",
    "ws = websocket.WebSocket()\n",
    "websocket_url = \"ws://localhost:8000/ws/livesignals/\"\n",
    "ws.connect(websocket_url)\n",
    "ws.send(payload_json)\n",
    "# print(ws.recv())"
   ]
  },
  {
   "cell_type": "code",
   "execution_count": null,
   "metadata": {
    "scrolled": false
   },
   "outputs": [],
   "source": [
    "from map.models import Sensors, SensorReadings\n",
    "import pandas as pd\n",
    "\n",
    "sensors = Sensors.objects.all()\n",
    "readings = SensorReadings.objects.all()\n",
    "data = list(readings.values())\n",
    "df = pd.DataFrame(data)\n",
    "df"
   ]
  }
 ],
 "metadata": {
  "kernelspec": {
   "display_name": "Python 3 (ipykernel)",
   "language": "python",
   "name": "python3"
  },
  "language_info": {
   "codemirror_mode": {
    "name": "ipython",
    "version": 3
   },
   "file_extension": ".py",
   "mimetype": "text/x-python",
   "name": "python",
   "nbconvert_exporter": "python",
   "pygments_lexer": "ipython3",
   "version": "3.10.12"
  }
 },
 "nbformat": 4,
 "nbformat_minor": 4
}
